{
 "cells": [
  {
   "cell_type": "code",
   "execution_count": 54,
   "id": "2d1d4730",
   "metadata": {},
   "outputs": [],
   "source": [
    "import pandas as pd\n",
    "from scipy.stats import norm\n",
    "import matplotlib.pyplot as plt\n",
    "import numpy as np\n",
    "import random"
   ]
  },
  {
   "cell_type": "code",
   "execution_count": 55,
   "id": "83aa0f92",
   "metadata": {},
   "outputs": [],
   "source": [
    "\"\"\"Parameters\"\"\"\n",
    "\n",
    "S_0=100\n",
    "K=98\n",
    "r=0\n",
    "q=.02\n",
    "N=10000\n",
    "sigma=.23\n",
    "dt=.25\n",
    "t=np.linspace(0,1,5).reshape(-1,1)"
   ]
  },
  {
   "cell_type": "code",
   "execution_count": 56,
   "id": "869b2b1d",
   "metadata": {
    "scrolled": true
   },
   "outputs": [
    {
     "name": "stdout",
     "output_type": "stream",
     "text": [
      "The estimated price is 8.828381529289869 with a standard error of 0.012578254306984152\n"
     ]
    }
   ],
   "source": [
    "M=100\n",
    "price=np.zeros((M,1))\n",
    "\n",
    "\"\"\"Loop where option price is calculated\"\"\"\n",
    "\n",
    "for j in range(M): # Iterate M times to estimate a standard error \n",
    "    \n",
    "    \"\"\"Generate stock prices\"\"\"\n",
    "    \n",
    "    dW=np.sqrt(dt)*np.random.normal(0,1,(N,len(t)-1))\n",
    "    BM_path=np.cumsum(dW,axis=1)                                                        # Simulate brownian motion\n",
    "    S=S_0*np.exp((r-q+0.5*sigma**2)*np.ones((N,1))@t[1:].T+sigma*BM_path)               # Stock process\n",
    "    \n",
    "    \"\"\" Calculate A\"\"\"\n",
    "\n",
    "    A=np.cumsum(S,axis=1)\n",
    "    for i in range(len(t)-1):\n",
    "        A[:,i]=A[:,i]/(i+1)\n",
    "        payoff=np.maximum(A-K,0)\n",
    "\n",
    "    \"\"\"Create 3d matrix with regressor variables, where the dimensions are time,\n",
    "    number of stock simulations and number of regressors including a constant term.\"\"\"\n",
    "\n",
    "    regressors=np.array([S,S**2,S**3,A,A**2,A**3])\n",
    "    regressors=np.transpose(regressors,(2,1,0))\n",
    "    X=np.concatenate((np.ones((len(t)-1,N,1)),regressors),axis=2)\n",
    "\n",
    "    \"\"\"Initiate cashflow vector. Since the risk-free rate is 0,\n",
    "    we do not need to keep track of time, so a matrix is unnceccesary\"\"\"\n",
    "\n",
    "    cashflows=payoff[:,-1]\n",
    "\n",
    "    \"\"\"Loop to update the cashflow vector. Decision to exercise or not is \n",
    "    determined by comparing regression value and exercise value\"\"\"\n",
    "\n",
    "    for i in range(len(t)-2):\n",
    "\n",
    "        x=X[len(t)-2-1-i,::] # Regressor variables at each timestep.\n",
    "\n",
    "        if i==len(t)-2-1:    # At the first time step, A=S, A^2=S^2 and A^3=S^3, so we exclude the powers of A.\n",
    "            x=x[:,0:4]\n",
    "\n",
    "        payofftemp=payoff[:,len(t)-2-1-i]\n",
    "        nonzero_indices=np.nonzero(payofftemp)       # Obtaining the indices of non-zero elements of payoff.\n",
    "        payofftemp=payofftemp[nonzero_indices]\n",
    "        cashflowtemp=cashflows[nonzero_indices]      # y-value in regression model.\n",
    "\n",
    "        x_nonzero=x[nonzero_indices]                 # Regressor values where payoff is non-zero.                 \n",
    "\n",
    "        beta=np.linalg.inv(x_nonzero.T@x_nonzero)@x_nonzero.T@cashflowtemp     # Fitted parameters\n",
    "        regression_prices=x_nonzero@beta                                       # Fitted prices\n",
    "        boolean=regression_prices>payofftemp\n",
    "        cashflows[nonzero_indices]=boolean*cashflowtemp+(1-boolean)*payofftemp  # Updating cashflow vector based on boolean rule.\n",
    "    \n",
    "    price[j]=np.mean(cashflows) \n",
    "    \n",
    "mean_price=np.mean(price)\n",
    "error_price=np.std(price)/np.sqrt(M)\n",
    "print('The estimated price is {0} with a standard error of {1}'.format(mean_price,error_price))"
   ]
  },
  {
   "cell_type": "code",
   "execution_count": 49,
   "id": "246ae231",
   "metadata": {},
   "outputs": [
    {
     "data": {
      "text/plain": [
       "array([[-1,  0, -2, -1, -1,  0]])"
      ]
     },
     "execution_count": 49,
     "metadata": {},
     "output_type": "execute_result"
    }
   ],
   "source": [
    "bruh=np.array([[1,0,3]])\n",
    "a=np.array([[7,0,1,7,5,0]])\n",
    "x=np.nonzero(a)\n",
    "a[x]=np.array([[-1,-2,-1,-1]])\n",
    "a"
   ]
  },
  {
   "cell_type": "code",
   "execution_count": 5,
   "id": "b66ab3c5",
   "metadata": {},
   "outputs": [
    {
     "data": {
      "text/plain": [
       "197898"
      ]
     },
     "execution_count": 5,
     "metadata": {},
     "output_type": "execute_result"
    }
   ],
   "source": [
    "sum(1-boolean)"
   ]
  },
  {
   "cell_type": "code",
   "execution_count": null,
   "id": "ee1fee7e",
   "metadata": {},
   "outputs": [],
   "source": []
  }
 ],
 "metadata": {
  "kernelspec": {
   "display_name": "Python 3 (ipykernel)",
   "language": "python",
   "name": "python3"
  },
  "language_info": {
   "codemirror_mode": {
    "name": "ipython",
    "version": 3
   },
   "file_extension": ".py",
   "mimetype": "text/x-python",
   "name": "python",
   "nbconvert_exporter": "python",
   "pygments_lexer": "ipython3",
   "version": "3.9.12"
  }
 },
 "nbformat": 4,
 "nbformat_minor": 5
}
