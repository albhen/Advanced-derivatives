{
 "cells": [
  {
   "cell_type": "code",
   "execution_count": 103,
   "id": "43a63cb3",
   "metadata": {
    "scrolled": true
   },
   "outputs": [],
   "source": [
    "import pandas as pd\n",
    "from scipy.stats import norm\n",
    "import numpy as np\n",
    "import random"
   ]
  },
  {
   "cell_type": "code",
   "execution_count": 108,
   "id": "371562a0",
   "metadata": {},
   "outputs": [
    {
     "name": "stdout",
     "output_type": "stream",
     "text": [
      "The price of the outperformance option is 0.05748409476249403, with an estimated standard error of 0.0008925273515949704\n"
     ]
    }
   ],
   "source": [
    "\"\"\"Parameters and data\"\"\"\n",
    "\n",
    "df=pd.read_excel('Impvols_SPX_AMZN.xlsx')\n",
    "random.seed(0)\n",
    "S_0_amzn = 1971\n",
    "S_0_spx = 2921\n",
    "strikes_spx = np.array(df.iloc[2:, 0].apply(pd.to_numeric)).reshape(-1, 1)\n",
    "imp_vol_spx = np.array(df.iloc[2:, 1].apply(pd.to_numeric)).reshape(-1, 1)\n",
    "strikes_amzn = np.array(df.iloc[2:, 4].apply(pd.to_numeric)).reshape(-1, 1)\n",
    "imp_vol_amzn = np.array(df.iloc[2:, 5].apply(pd.to_numeric)).reshape(-1, 1)\n",
    "q_amzn = .019\n",
    "q_spx = .018\n",
    "r = .024\n",
    "T = .296\n",
    "N = 10 ** 4\n",
    "rho = .5\n",
    "\n",
    "\"\"\"Calculating option prices based on the above data\"\"\"\n",
    "\n",
    "def BS_option(S, K, T, sigma, r, q):\n",
    "    d_1 = (np.log(S / K) + (r - q + 0.5 * sigma ** 2) * T) / (sigma * np.sqrt(T))\n",
    "    d_2 = d_1 - sigma * np.sqrt(T)\n",
    "    C = S * np.exp(-q * T) * norm.cdf(d_1) - K * np.exp(-r * T) * norm.cdf(d_2)\n",
    "    return C\n",
    "\n",
    "options_amzn = BS_option(S_0_amzn, strikes_amzn, T, imp_vol_amzn, r, q_amzn)\n",
    "options_spx = BS_option(S_0_spx, strikes_spx, T, imp_vol_spx, r, q_spx)\n",
    "\n",
    "\"\"\"Approximating CDF of stock price by approximating the first derivative of call option w.r.t. strike\"\"\"\n",
    "\n",
    "cdf_amzn = 1 + np.diff(np.exp(r * T) * options_amzn.T) / np.diff(strikes_amzn.T)\n",
    "cdf_spx = 1 + np.diff(np.exp(r * T) * options_spx.T) / np.diff(strikes_spx.T)\n",
    "cdf_amzn[0, -1] = 1\n",
    "cdf_spx[0, -1] = 1\n",
    "\n",
    "\"\"\"Generating N multivariate normal r.v.'s with correlation rho in order to use the Gaussian copula method\"\"\"\n",
    "\n",
    "Cov = [[1, rho], [rho, 1]]\n",
    "mu = [0, 0]\n",
    "X = np.random.multivariate_normal(mu, Cov, (N))\n",
    "norm_cdf = norm.cdf(X)\n",
    "\n",
    "\"\"\"Simulating stock prices\"\"\"\n",
    "\n",
    "S_T_spx = np.zeros((N, 1))\n",
    "S_T_amzn = np.zeros((N, 1))\n",
    "M = len(cdf_amzn.T)\n",
    "for i in range(N):\n",
    "    index_amzn = np.where(cdf_amzn > norm_cdf[i, 0])[1][0]\n",
    "    index_spx = np.where(cdf_spx > norm_cdf[i, 1])[1][0]\n",
    "    S_T_amzn[i] = strikes_amzn[index_amzn]\n",
    "    S_T_spx[i] = strikes_spx[index_spx]\n",
    "\n",
    "\"\"\"Calculating outperformance option price along with its standard error\"\"\"\n",
    "\n",
    "discounted_payoffs = np.exp(-r * T) * np.maximum(S_T_spx / S_0_spx - S_T_amzn / S_0_amzn, 0)\n",
    "outperformance_option_price = np.mean(discounted_payoffs)\n",
    "standard_error = np.std(discounted_payoffs) / np.sqrt(N)\n",
    "print(\"The price of the outperformance option is {0}, with an estimated standard error of {1}\".format(\n",
    "    outperformance_option_price,\n",
    "    standard_error))"
   ]
  }
 ],
 "metadata": {
  "kernelspec": {
   "display_name": "Python 3 (ipykernel)",
   "language": "python",
   "name": "python3"
  },
  "language_info": {
   "codemirror_mode": {
    "name": "ipython",
    "version": 3
   },
   "file_extension": ".py",
   "mimetype": "text/x-python",
   "name": "python",
   "nbconvert_exporter": "python",
   "pygments_lexer": "ipython3",
   "version": "3.9.12"
  }
 },
 "nbformat": 4,
 "nbformat_minor": 5
}
